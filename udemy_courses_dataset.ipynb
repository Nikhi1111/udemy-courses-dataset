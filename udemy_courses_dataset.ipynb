{
  "nbformat": 4,
  "nbformat_minor": 0,
  "metadata": {
    "colab": {
      "name": "udemy courses dataset",
      "provenance": [],
      "collapsed_sections": []
    },
    "kernelspec": {
      "name": "python3",
      "display_name": "Python 3"
    },
    "language_info": {
      "name": "python"
    }
  },
  "cells": [
    {
      "cell_type": "code",
      "metadata": {
        "id": "VniamGKaxXiG"
      },
      "source": [
        "import pandas as pd"
      ],
      "execution_count": 1,
      "outputs": []
    },
    {
      "cell_type": "code",
      "metadata": {
        "id": "Udma7OqcxlSW"
      },
      "source": [
        "data = pd.read_csv(\"/content/7. Udemy Courses.csv\")"
      ],
      "execution_count": 2,
      "outputs": []
    },
    {
      "cell_type": "code",
      "metadata": {
        "id": "T4tzW_tcx_8C"
      },
      "source": [
        "data.head()"
      ],
      "execution_count": null,
      "outputs": []
    },
    {
      "cell_type": "markdown",
      "metadata": {
        "id": "ygfxNNK9yMC6"
      },
      "source": [
        "1. what are *all* different subjects for which udemy is offering course ?"
      ]
    },
    {
      "cell_type": "code",
      "metadata": {
        "id": "oV738JCcyYsh"
      },
      "source": [
        "data.subject.unique()"
      ],
      "execution_count": null,
      "outputs": []
    },
    {
      "cell_type": "markdown",
      "metadata": {
        "id": "pdV4TxigyyNS"
      },
      "source": [
        "2. which subject has maximum number of courses?*"
      ]
    },
    {
      "cell_type": "code",
      "metadata": {
        "id": "I_ASlpSXy6p_"
      },
      "source": [
        "data.head(3)"
      ],
      "execution_count": null,
      "outputs": []
    },
    {
      "cell_type": "code",
      "metadata": {
        "id": "5v1L91pHzV1K"
      },
      "source": [
        "data.subject.value_counts()"
      ],
      "execution_count": null,
      "outputs": []
    },
    {
      "cell_type": "markdown",
      "metadata": {
        "id": "x5n7yQYszhod"
      },
      "source": [
        "3. show all courses which are free of cost?"
      ]
    },
    {
      "cell_type": "code",
      "metadata": {
        "id": "lIoSZjeOzp1H"
      },
      "source": [
        "data.head(4)"
      ],
      "execution_count": null,
      "outputs": []
    },
    {
      "cell_type": "code",
      "metadata": {
        "id": "yOrZgfiDzwZA"
      },
      "source": [
        "data[data.is_paid == False]"
      ],
      "execution_count": null,
      "outputs": []
    },
    {
      "cell_type": "markdown",
      "metadata": {
        "id": "5rP-HUuo0iSt"
      },
      "source": [
        "4. show all courses which are paid?"
      ]
    },
    {
      "cell_type": "code",
      "metadata": {
        "id": "DG7gQP5m0uB8"
      },
      "source": [
        "data[data.is_paid == True]"
      ],
      "execution_count": null,
      "outputs": []
    },
    {
      "cell_type": "markdown",
      "metadata": {
        "id": "DqxCG0Yk07dR"
      },
      "source": [
        "5. which are top selling courses?"
      ]
    },
    {
      "cell_type": "code",
      "metadata": {
        "id": "zJSr4ovr1AFP"
      },
      "source": [
        "data.sort_values('num_subscribers', ascending = False)"
      ],
      "execution_count": null,
      "outputs": []
    },
    {
      "cell_type": "markdown",
      "metadata": {
        "id": "B2oqPqa-13Vy"
      },
      "source": [
        "6. which are least selling courses?"
      ]
    },
    {
      "cell_type": "code",
      "metadata": {
        "id": "db3zsJdZ187x"
      },
      "source": [
        "data.sort_values('num_subscribers')"
      ],
      "execution_count": null,
      "outputs": []
    },
    {
      "cell_type": "markdown",
      "metadata": {
        "id": "rE2yiNWj2NtS"
      },
      "source": [
        "7. show all courses of Graphic Design where the price below 100?"
      ]
    },
    {
      "cell_type": "code",
      "metadata": {
        "id": "IdH9yR7m2n5d"
      },
      "source": [
        "data.head(1)"
      ],
      "execution_count": null,
      "outputs": []
    },
    {
      "cell_type": "code",
      "metadata": {
        "id": "oaukH2Bm4HX3"
      },
      "source": [
        "data[(data.subject == 'Graphic Design') & (data.price < '100') ]"
      ],
      "execution_count": null,
      "outputs": []
    },
    {
      "cell_type": "code",
      "metadata": {
        "id": "dvJ5PHWz4vc8"
      },
      "source": [
        "data[(data.subject == 'Graphic Design') & (data.price == '100') ] "
      ],
      "execution_count": null,
      "outputs": []
    },
    {
      "cell_type": "markdown",
      "metadata": {
        "id": "BB_VpDN25Amw"
      },
      "source": [
        "8. list all the courres which are related to javascript?"
      ]
    },
    {
      "cell_type": "code",
      "metadata": {
        "id": "49bZwjTC5Rkj"
      },
      "source": [
        "data[data.course_title.str.contains('Javascript')]"
      ],
      "execution_count": null,
      "outputs": []
    },
    {
      "cell_type": "markdown",
      "metadata": {
        "id": "-HZq8c3m6AUi"
      },
      "source": [
        "9. what are courses published in year 2015?"
      ]
    },
    {
      "cell_type": "code",
      "metadata": {
        "id": "1egyxdLE6Jbo"
      },
      "source": [
        "data.dtypes"
      ],
      "execution_count": null,
      "outputs": []
    },
    {
      "cell_type": "code",
      "metadata": {
        "id": "9-LXFlnV7lNo"
      },
      "source": [
        "data[data.Year == 2015]"
      ],
      "execution_count": null,
      "outputs": []
    },
    {
      "cell_type": "markdown",
      "metadata": {
        "id": "0SOO-aHo8YGY"
      },
      "source": [
        "10. what are the maximum number of subscriber for each level of courses?"
      ]
    },
    {
      "cell_type": "code",
      "metadata": {
        "id": "xZyZS5bK8ejq"
      },
      "source": [
        "data.level.unique()"
      ],
      "execution_count": null,
      "outputs": []
    },
    {
      "cell_type": "code",
      "metadata": {
        "id": "6l_hl-2W8vft"
      },
      "source": [
        "data.groupby('level')['num_subscribers'].max()"
      ],
      "execution_count": null,
      "outputs": []
    },
    {
      "cell_type": "code",
      "metadata": {
        "id": "tbhenyna9RUP"
      },
      "source": [
        "data.groupby('level').max()"
      ],
      "execution_count": null,
      "outputs": []
    }
  ]
}